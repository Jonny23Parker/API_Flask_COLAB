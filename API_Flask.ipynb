
from flask import Flask

app = Flask(__name__)
tabela = pd.read_excel('Vendas.xlsx')

@app.route("/")
def fat():
  faturamento = float(tabela['Valor Final'].sum())
  return {"Faturamento": faturamento}

@app.route("/vendas/produtos")
def vendas_produtos():
  tabela_vendas_produtos = tabela[["Produto", "Valor Final"]].groupby("Produto").sum()
  dic_vendas_produtos = tabela_vendas_produtos.to_dict()
  return dic_vendas_produtos

@app.route("/vendas/produtos/<produto>")
def fat_produto_especifico(produto):
  tabela_vendas_produtos = tabela[["Produto", "Valor Final"]].groupby("Produto").sum()
  if produto in tabela_vendas_produtos.index:
    vendas_produto = tabela_vendas_produtos.loc[produto]
    dic_vendas_produtos = vendas_produto.to_dict()
    return dic_vendas_produtos
  else:
    return {produto: "Inexistente"} 

app.run()
